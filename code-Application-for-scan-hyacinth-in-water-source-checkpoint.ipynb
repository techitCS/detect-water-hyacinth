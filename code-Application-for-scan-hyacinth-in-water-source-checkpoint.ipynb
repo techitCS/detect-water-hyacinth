{
 "cells": [
  {
   "cell_type": "code",
   "execution_count": 14,
   "metadata": {
    "collapsed": true
   },
   "outputs": [],
   "source": [
    "import numpy as np"
   ]
  },
  {
   "cell_type": "code",
   "execution_count": 15,
   "metadata": {
    "collapsed": true
   },
   "outputs": [],
   "source": [
    "import tensorflow as tf"
   ]
  },
  {
   "cell_type": "code",
   "execution_count": 16,
   "metadata": {
    "collapsed": true
   },
   "outputs": [],
   "source": [
    "import matplotlib.pyplot as plt"
   ]
  },
  {
   "cell_type": "code",
   "execution_count": 17,
   "metadata": {
    "collapsed": false
   },
   "outputs": [],
   "source": [
    "from utils import *"
   ]
  },
  {
   "cell_type": "code",
   "execution_count": 18,
   "metadata": {
    "collapsed": true
   },
   "outputs": [],
   "source": [
    "from tensorflow.contrib import learn"
   ]
  },
  {
   "cell_type": "code",
   "execution_count": 19,
   "metadata": {
    "collapsed": true
   },
   "outputs": [],
   "source": [
    "from tensorflow.contrib import layers"
   ]
  },
  {
   "cell_type": "code",
   "execution_count": 7,
   "metadata": {
    "collapsed": true
   },
   "outputs": [],
   "source": [
    "from tensorflow.contrib.learn import *"
   ]
  },
  {
   "cell_type": "code",
   "execution_count": 9,
   "metadata": {
    "collapsed": false
   },
   "outputs": [],
   "source": [
    "from tensorflow.contrib.learn.python.learn.estimators import model_fn as model_fn_lib\n",
    "from sklearn.datasets import fetch_mldata"
   ]
  },
  {
   "cell_type": "code",
   "execution_count": 7,
   "metadata": {
    "collapsed": false
   },
   "outputs": [],
   "source": [
    "tf.logging.set_verbosity(tf.logging.INFO)"
   ]
  },
  {
   "cell_type": "markdown",
   "metadata": {
    "collapsed": true
   },
   "source": [
    "# input function for training"
   ]
  },
  {
   "cell_type": "code",
   "execution_count": 8,
   "metadata": {
    "collapsed": false
   },
   "outputs": [],
   "source": [
    "train_input_fn = read_img(data_dir='C:\\tf-image-workshop\\images',batch_size=32,shuffle=True)"
   ]
  },
  {
   "cell_type": "code",
   "execution_count": 9,
   "metadata": {
    "collapsed": false
   },
   "outputs": [
    {
     "data": {
      "text/plain": [
       "(<tf.Tensor 'features:0' shape=(?, 256, 256, 3) dtype=uint8>,\n",
       " <tf.Tensor 'label:0' shape=(?,) dtype=int32>)"
      ]
     },
     "execution_count": 9,
     "metadata": {},
     "output_type": "execute_result"
    }
   ],
   "source": [
    "train_input_fn()"
   ]
  },
  {
   "cell_type": "code",
   "execution_count": null,
   "metadata": {
    "collapsed": false
   },
   "outputs": [],
   "source": [
    "def _parse_function(filename, label):\n",
    "  image_string = tf.read_file(filename)\n",
    "  image_decoded = tf.image.decode_image(image_string)\n",
    "  image_resized = tf.image.resize_images(image_decoded, [28, 28])\n",
    "  return image_resized, label"
   ]
  },
  {
   "cell_type": "markdown",
   "metadata": {},
   "source": [
    "# code mode coppy for https://phyblas.hinaboshi.com/20170922"
   ]
  },
  {
   "cell_type": "code",
   "execution_count": 13,
   "metadata": {
    "collapsed": false
   },
   "outputs": [
    {
     "ename": "NameError",
     "evalue": "name 'sklearn' is not defined",
     "output_type": "error",
     "traceback": [
      "\u001b[1;31m---------------------------------------------------------------------------\u001b[0m",
      "\u001b[1;31mNameError\u001b[0m                                 Traceback (most recent call last)",
      "\u001b[1;32m<ipython-input-13-87e903852b81>\u001b[0m in \u001b[0;36m<module>\u001b[1;34m()\u001b[0m\n\u001b[0;32m     61\u001b[0m \u001b[1;33m\u001b[0m\u001b[0m\n\u001b[0;32m     62\u001b[0m \u001b[1;31m# ดึงข้อมูล MNIST\u001b[0m\u001b[1;33m\u001b[0m\u001b[1;33m\u001b[0m\u001b[0m\n\u001b[1;32m---> 63\u001b[1;33m \u001b[0mmnist\u001b[0m \u001b[1;33m=\u001b[0m \u001b[0msklearn\u001b[0m\u001b[1;33m.\u001b[0m\u001b[0mdatasets\u001b[0m\u001b[1;33m.\u001b[0m\u001b[0mfetch_mldata\u001b[0m\u001b[1;33m(\u001b[0m\u001b[1;34m'MNIST original'\u001b[0m\u001b[1;33m,\u001b[0m\u001b[0mdata_home\u001b[0m\u001b[1;33m=\u001b[0m\u001b[1;34m'C:\\tf-image-workshop\\images'\u001b[0m\u001b[1;33m)\u001b[0m\u001b[1;33m\u001b[0m\u001b[0m\n\u001b[0m\u001b[0;32m     64\u001b[0m \u001b[0mmnist\u001b[0m\u001b[1;33m.\u001b[0m\u001b[0mdata\u001b[0m \u001b[1;33m=\u001b[0m \u001b[0mmnist\u001b[0m\u001b[1;33m.\u001b[0m\u001b[0mdata\u001b[0m\u001b[1;33m/\u001b[0m\u001b[1;36m255.\u001b[0m \u001b[1;31m# ทำให้ค่าเป็น 0~1\u001b[0m\u001b[1;33m\u001b[0m\u001b[0m\n\u001b[0;32m     65\u001b[0m \u001b[0mnp\u001b[0m\u001b[1;33m.\u001b[0m\u001b[0mrandom\u001b[0m\u001b[1;33m.\u001b[0m\u001b[0mseed\u001b[0m\u001b[1;33m(\u001b[0m\u001b[1;36m0\u001b[0m\u001b[1;33m)\u001b[0m\u001b[1;33m\u001b[0m\u001b[0m\n",
      "\u001b[1;31mNameError\u001b[0m: name 'sklearn' is not defined"
     ]
    }
   ],
   "source": [
    "\n",
    "def softmax(x):\n",
    "    exp_x = np.exp(x.T-x.max(1))\n",
    "    return (exp_x/exp_x.sum(0)).T\n",
    "\n",
    "class ThotthoiLogistic:\n",
    "    def __init__(self,eta):\n",
    "        self.eta = eta\n",
    "\n",
    "    def rianru(self,X,z,n_thamsam,n_batch=0,romaiphoem=10):\n",
    "        n = len(z)\n",
    "        if(n_batch==0 or n<n_batch):\n",
    "            n_batch = n\n",
    "        self.kiklum = int(z.max()+1)\n",
    "        z_1h = z[:,None]==range(self.kiklum)\n",
    "        self.w = np.zeros([X.shape[1]+1,self.kiklum])\n",
    "        self.entropy = []\n",
    "        self.thuktong = []\n",
    "        thukmaksut = 0 # ค่าจำนวนที่ถูกมากสุด\n",
    "        thukmaiphoem = 0 # นับว่าจำนวนที่ถูกไม่เพิ่มมาแล้วกี่ครั้ง\n",
    "        for j in range(n_thamsam):\n",
    "            lueak = np.random.permutation(n)\n",
    "            for i in range(0,n,n_batch):\n",
    "                Xn = X[lueak[i:i+n_batch]]\n",
    "                zn = z_1h[lueak[i:i+n_batch]]\n",
    "                phi = self.ha_softmax(Xn)\n",
    "                eee = (zn-phi)/len(zn)*self.eta\n",
    "                self.w[1:] += np.dot(eee.T,Xn).T\n",
    "                self.w[0] += eee.sum(0)\n",
    "\n",
    "            thukmai = self.thamnai(X)==z\n",
    "            thukmak = thukmai.mean()*100\n",
    "\n",
    "            if(thukmak > thukmaksut):\n",
    "                # ถ้าจำนวนที่ถูกมากขึ้นกว่าเดิมก็บันทึกค่าจำนวนนั้น และน้ำหนักในตอนนั้นไว้\n",
    "                thukmaksut = thukmak\n",
    "                thukmaiphoem = 0\n",
    "                w = self.w.copy()\n",
    "            else:\n",
    "                thukmaiphoem += 1 # ถ้าไม่ถูกมากขึ้นก็นับไว้ว่าไม่เพิ่มไปอีกครั้งแล้ว\n",
    "\n",
    "            self.thuktong += [thukmak]\n",
    "            self.entropy += [self.ha_entropy(X,z_1h)]\n",
    "            print(u'ครั้งที่ %d ถูก %.3f%% สูงสุด %.3f%% ไม่เพิ่มมาแล้ว %d ครั้ง'%(j+1,self.thuktong[-1],thukmaksut,thukmaiphoem))\n",
    "\n",
    "            if(romaiphoem!=0 and thukmaiphoem>=romaiphoem):\n",
    "                break # ถ้าจำนวนที่ถูกไม่เพิ่มเลย 10 ครั้งก็เลิกทำ\n",
    "\n",
    "        self.w = w # ค่าน้ำหนักที่ได้ในท้ายสุด เอาตามค่าที่ทำให้ทายถูกมากที่สุด\n",
    "\n",
    "    def thamnai(self,X):\n",
    "        return (np.dot(X,self.w[1:])+self.w[0]).argmax(1)\n",
    "\n",
    "    def ha_softmax(self,X):\n",
    "        return softmax(np.dot(X,self.w[1:])+self.w[0])\n",
    "\n",
    "    def ha_entropy(self,X,z_1h):\n",
    "        return -(z_1h*np.log(self.ha_softmax(X)+1e-7)).mean()\n",
    "\n",
    "\n",
    "\n",
    "# ดึงข้อมูล MNIST\n",
    "mnist = sklearn.datasets.fetch_mldata('MNIST original',data_home='C:\\tf-image-workshop\\images')\n",
    "mnist.data = mnist.data/255. # ทำให้ค่าเป็น 0~1\n",
    "np.random.seed(0)\n",
    "sumriang = np.random.permutation(len(mnist.target)) # สุ่มเรียงลำดับข้อมูลใหม่\n",
    "X = mnist.data[sumriang]\n",
    "z = mnist.target[sumriang]\n",
    "\n",
    "# เริ่มการเรียนรู้\n",
    "eta = 0.24 # อัตราการเรียนรู้\n",
    "n_thamsam = 1000 # จำนวนทำซ้ำสูงสุดถ้าไม่มีการหยุดเสียก่อน\n",
    "n_batch = 100 # จำนวนมินิแบตช์\n",
    "romaiphoem = 10 # จะให้หยุดเมื่อความแม่นยำไม่เพิ่มเกินกี่ครั้ง\n",
    "tl = ThotthoiLogistic(eta)\n",
    "tl.rianru(X,z,n_thamsam,n_batch,romaiphoem)\n",
    "\n",
    "# กราฟแสดงความคืบหน้าในการเรียนรู้\n",
    "ax = plt.subplot(211)\n",
    "ax.set_title(u'เอนโทรปี',fontname='Tahoma')\n",
    "plt.plot(tl.entropy)\n",
    "plt.tick_params(labelbottom='off')\n",
    "ax = plt.subplot(212)\n",
    "ax.set_title(u'% ถูก',fontname='Tahoma')\n",
    "plt.plot(tl.thuktong)\n",
    "plt.show()"
   ]
  },
  {
   "cell_type": "markdown",
   "metadata": {},
   "source": [
    "# CNN model function "
   ]
  },
  {
   "cell_type": "markdown",
   "metadata": {},
   "source": [
    "# code จาก plain_cnn_completed.py"
   ]
  },
  {
   "cell_type": "code",
   "execution_count": 16,
   "metadata": {
    "collapsed": false
   },
   "outputs": [],
   "source": [
    "def cnn_model_fn(features, labels, mode, params):\n",
    "    \"\"\"\n",
    "    Model function for CNN\n",
    "    :param features: images features with shape (batch_size, height, width, channels)\n",
    "    :param labels: images category with shape (batch_size)\n",
    "    :param mode: Specifies if this training, evaluation or\n",
    "                 prediction. See `model_fn_lib.ModeKey`\n",
    "    :param params: dict of hyperparameters\n",
    "    :return: predictions, loss, train_op, Optional(eval_op). See `model_fn_lib.ModelFnOps`\n",
    "    \"\"\"\n",
    "\n",
    "    # Convolutional Layer #1\n",
    "    conv1 = tf.layers.conv2d(\n",
    "        inputs=features,\n",
    "        filters=32,\n",
    "        kernel_size=[3, 3],\n",
    "        padding=\"same\",\n",
    "        activation=tf.nn.relu)\n",
    "\n",
    "    # Pooling Layer #1\n",
    "    pool1 = tf.layers.max_pooling2d(inputs=conv1, pool_size=[2, 2], strides=2)\n",
    "\n",
    "    # Convolutional Layer #2 and Pooling Layer #2\n",
    "    conv2 = tf.layers.conv2d(\n",
    "        inputs=pool1,\n",
    "        filters=64,\n",
    "        kernel_size=[3, 3],\n",
    "        padding=\"same\",\n",
    "        activation=tf.nn.relu)\n",
    "    pool2 = tf.layers.max_pooling2d(inputs=conv2, pool_size=[2, 2], strides=2)\n",
    "\n",
    "    # Convolutional Layer #3 and Pooling Layer #3\n",
    "    conv3 = tf.layers.conv2d(\n",
    "        inputs=pool2,\n",
    "        filters=64,\n",
    "        kernel_size=[3, 3],\n",
    "        padding=\"same\",\n",
    "        activation=tf.nn.relu)\n",
    "    pool3 = tf.layers.max_pooling2d(inputs=conv3, pool_size=[2, 2], strides=2)\n",
    "\n",
    "    # Dense Layer\n",
    "    pool_flat = tf.reshape(pool3, [-1, 32 * 32 * 64])\n",
    "    dense = tf.layers.dense(inputs=pool_flat, units=512, activation=tf.nn.relu)\n",
    "    dropout = tf.layers.dropout(inputs=dense, rate=params['drop_out_rate'], training=mode == learn.ModeKeys.TRAIN)\n",
    "\n",
    "    # Logits Layer\n",
    "    logits = tf.layers.dense(inputs=dropout, units=5)\n",
    "\n",
    "    loss = None\n",
    "    train_op = None\n",
    "\n",
    "    # Calculate Loss (for both TRAIN and EVAL modes)\n",
    "    if mode != learn.ModeKeys.INFER:\n",
    "        onehot_labels = tf.one_hot(indices=tf.cast(labels, tf.int32), depth=5, name=\"onehot\")\n",
    "        loss = tf.losses.softmax_cross_entropy(\n",
    "            onehot_labels=onehot_labels, logits=logits)\n",
    "\n",
    "    # Configure the Training Op (for TRAIN mode)\n",
    "    if mode == learn.ModeKeys.TRAIN:\n",
    "        train_op = tf.contrib.layers.optimize_loss(\n",
    "            loss=loss,\n",
    "            global_step=tf.contrib.framework.get_global_step(),\n",
    "            optimizer=tf.train.AdamOptimizer,\n",
    "            learning_rate=params['learning_rate'],\n",
    "            summaries=[\n",
    "                \"learning_rate\",\n",
    "                \"loss\",\n",
    "                \"gradients\",\n",
    "                \"gradient_norm\",\n",
    "            ])\n",
    "    # Generate Predictions\n",
    "    predictions = {\n",
    "        \"classes\": tf.argmax(\n",
    "            input=logits, axis=1),\n",
    "        \"probabilities\": tf.nn.softmax(\n",
    "            logits, name=\"softmax_tensor\")\n",
    "    }\n",
    "\n",
    "    # Return a ModelFnOps object\n",
    "    return model_fn_lib.ModelFnOps(\n",
    "        mode=mode, predictions=predictions, loss=loss, train_op=train_op, eval_metric_ops={'dense': dense})\n"
   ]
  },
  {
   "cell_type": "code",
   "execution_count": null,
   "metadata": {
    "collapsed": true
   },
   "outputs": [],
   "source": []
  },
  {
   "cell_type": "code",
   "execution_count": null,
   "metadata": {
    "collapsed": true
   },
   "outputs": [],
   "source": []
  },
  {
   "cell_type": "code",
   "execution_count": null,
   "metadata": {
    "collapsed": true
   },
   "outputs": [],
   "source": []
  },
  {
   "cell_type": "code",
   "execution_count": null,
   "metadata": {
    "collapsed": true
   },
   "outputs": [],
   "source": []
  }
 ],
 "metadata": {
  "anaconda-cloud": {},
  "kernelspec": {
   "display_name": "Python 3",
   "language": "python",
   "name": "python3"
  },
  "language_info": {
   "codemirror_mode": {
    "name": "ipython",
    "version": 3
   },
   "file_extension": ".py",
   "mimetype": "text/x-python",
   "name": "python",
   "nbconvert_exporter": "python",
   "pygments_lexer": "ipython3",
   "version": "3.5.4"
  }
 },
 "nbformat": 4,
 "nbformat_minor": 1
}
